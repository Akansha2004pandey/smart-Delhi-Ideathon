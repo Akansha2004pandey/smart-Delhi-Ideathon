{
 "cells": [
  {
   "cell_type": "code",
   "execution_count": 1,
   "metadata": {},
   "outputs": [],
   "source": [
    "import numpy as np\n",
    "import cv2\n",
    "\n",
    "face_cascade = cv2.CascadeClassifier('haarcascades_models/haarcascade_frontalface_default.xml')\n",
    "eye_cascade = cv2.CascadeClassifier('haarcascades_models/haarcascade_eye.xml')"
   ]
  },
  {
   "cell_type": "code",
   "execution_count": 3,
   "metadata": {},
   "outputs": [],
   "source": [
    "img = cv2.imread('obamas.jpg')\n",
    "gray = cv2.cvtColor(img, cv2.COLOR_BGR2GRAY)"
   ]
  },
  {
   "cell_type": "code",
   "execution_count": 8,
   "metadata": {},
   "outputs": [],
   "source": [
    "#First detect face and then look for eyes inside the face.\n",
    "#Multiscale refers to detecting objects (faces) at multiple scales. \n",
    "# faces = face_cascade.detectMultiScale(gray, 1.3, 5) #scaleFactor = 1.3, minNeighbors = 3\n",
    "#Above faces returns a list of rectangles. For Obama image we only have 1 face\n",
    "#so it return a tuplr of (1,4) --> 1 represents one rectangle and 4 represents\n",
    "#the x,y,w,h values that define the square."
   ]
  },
  {
   "cell_type": "code",
   "execution_count": 9,
   "metadata": {},
   "outputs": [],
   "source": [
    "#Obamas image with both barack and Michelle it returns a tuple of (2,4) --> 2 faces.\n",
    "\n",
    "#For each detected face now detect eyes. \n",
    "#For emotion detection this is where we update code to identify facial emotion\n",
    "# for (x,y,w,h) in faces:\n",
    "#     img = cv2.rectangle(img,(x,y),(x+w,y+h),(255,0,0),2)   #Draw red bounding box around the face\n",
    "#     roi_gray = gray[y:y+h, x:x+w] #Original gray image but only the detected face part\n",
    "#     roi_color = img[y:y+h, x:x+w] #Original color image but only the detected face part. For display purposes\n",
    "#     eyes = eye_cascade.detectMultiScale(roi_gray) #Use the gray face image to detect eyes\n",
    "#     for (ex,ey,ew,eh) in eyes:\n",
    "#         cv2.rectangle(roi_color,(ex,ey),(ex+ew,ey+eh),(0,255,0),2) #Draw green bounding boxes around the eyes\n",
    "\n",
    "# cv2.imshow('img', img)\n",
    "# cv2.waitKey(0)\n",
    "# cv2.destroyAllWindows()"
   ]
  },
  {
   "cell_type": "code",
   "execution_count": 11,
   "metadata": {},
   "outputs": [],
   "source": [
    "#Apply the above logic to a live video\n",
    "import numpy as np\n",
    "import cv2\n",
    "\n",
    "face_cascade = cv2.CascadeClassifier('haarcascades_models/haarcascade_frontalface_default.xml')\n",
    "# eye_cascade = cv2.CascadeClassifier('haarcascades_models/haarcascade_eye.xml')\n",
    "\n",
    "#Check if your system can detect camera and what is the source number\n",
    "# cams_test = 10\n",
    "# for i in range(0, cams_test):\n",
    "#     cap = cv2.VideoCapture(i)\n",
    "#     test, frame = cap.read()\n",
    "#     print(\"i : \"+str(i)+\" /// result: \"+str(test))\n",
    "\n",
    "\n",
    "cap = cv2.VideoCapture(0)\n",
    "\n",
    "while 1:\n",
    "    ret, img = cap.read()\n",
    "    gray = cv2.cvtColor(img, cv2.COLOR_BGR2GRAY)\n",
    "    faces = face_cascade.detectMultiScale(gray, 1.3, 5)\n",
    "    \n",
    "    #First detect face and then look for eyes inside the face.\n",
    "    for (x,y,w,h) in faces:\n",
    "        cv2.rectangle(img,(x,y),(x+w,y+h),(255,0,0),2)\n",
    "        roi_gray = gray[y:y+h, x:x+w]\n",
    "        roi_color = img[y:y+h, x:x+w]\n",
    "        \n",
    "        # eyes = eye_cascade.detectMultiScale(roi_gray)\n",
    "        # for (ex,ey,ew,eh) in eyes:\n",
    "        #     cv2.rectangle(roi_color,(ex,ey),(ex+ew,ey+eh),(0,255,0),2)\n",
    "            \n",
    "    cv2.imshow('img',img)\n",
    "    k = cv2.waitKey(30) & 0xff\n",
    "    if k == 27:      #Press Esc to stop the video\n",
    "        break\n",
    "\n",
    "cap.release()\n",
    "cv2.destroyAllWindows()"
   ]
  },
  {
   "cell_type": "code",
   "execution_count": null,
   "metadata": {},
   "outputs": [],
   "source": []
  }
 ],
 "metadata": {
  "kernelspec": {
   "display_name": "base",
   "language": "python",
   "name": "python3"
  },
  "language_info": {
   "codemirror_mode": {
    "name": "ipython",
    "version": 3
   },
   "file_extension": ".py",
   "mimetype": "text/x-python",
   "name": "python",
   "nbconvert_exporter": "python",
   "pygments_lexer": "ipython3",
   "version": "3.11.5"
  }
 },
 "nbformat": 4,
 "nbformat_minor": 2
}
